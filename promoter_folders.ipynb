{
 "cells": [
  {
   "cell_type": "markdown",
   "id": "amended-concentration",
   "metadata": {},
   "source": [
    "## Separating the promoter sequences into two folders \n",
    "- some seqeunces extracted were less than 50 bp, this was due to lack of sequencing; these sequences were at the end of the contig therefore the full 50 bp could not be extracted. This script iterates through my promoter_seqs folder, reads into each file and for each entry if the sequence is 50 bp it gets extracted and placed into a new folder (cured_promoter_seqs), and if the sequence is less than 50bp it gets extracted and placed into a separate folder (short_seqs). \n"
   ]
  },
  {
   "cell_type": "code",
   "execution_count": null,
   "id": "close-liberia",
   "metadata": {},
   "outputs": [],
   "source": [
    "from Bio import SeqIO\n",
    "import os\n",
    "import os.path\n",
    "from os import listdir\n",
    "from os.path import isfile, join\n",
    "\n",
    "promoters = \"/home/breena/Documents/Project/promoter_seqs/\"\n",
    "data = [f for f in listdir(promoters) if isfile(join(promoters, f))]\n",
    "\n",
    "for file in data:\n",
    "    print(file)\n",
    "    output = open(\"/home/breena/Documents/Project/cured_promoter_seqs/\" + file, \"w+\")\n",
    "    output_short = open('/home/breena/Documents/Project/short_seqs/' + file, \"w+\")\n",
    "    for seq_record in SeqIO.parse(promoters + file, \"fasta\"):\n",
    "        if len(seq_record.seq) >= 50:\n",
    "            output.write(str('>' + seq_record.id + '\\n' + seq_record.seq + '\\n')) \n",
    "        else:\n",
    "            output_short.write(str('>' + seq_record.id + '\\n' + seq_record.seq + '\\n'))\n",
    "output.close() \n",
    "output_short.close()\n",
    "\n"
   ]
  },
  {
   "cell_type": "code",
   "execution_count": null,
   "id": "collectible-modem",
   "metadata": {},
   "outputs": [],
   "source": []
  }
 ],
 "metadata": {
  "kernelspec": {
   "display_name": "Python 3",
   "language": "python",
   "name": "python3"
  },
  "language_info": {
   "codemirror_mode": {
    "name": "ipython",
    "version": 3
   },
   "file_extension": ".py",
   "mimetype": "text/x-python",
   "name": "python",
   "nbconvert_exporter": "python",
   "pygments_lexer": "ipython3",
   "version": "3.8.5"
  }
 },
 "nbformat": 4,
 "nbformat_minor": 5
}

{
 "cells": [
  {
   "cell_type": "code",
   "execution_count": null,
   "id": "adjustable-bridges",
   "metadata": {},
   "outputs": [],
   "source": [
    "from os import listdir\n",
    "from os.path import isfile, join\n",
    "from Bio import AlignIO\n",
    "from Bio import SeqIO\n",
    "from Bio.Align import AlignInfo\n",
    "from Bio.Align.Applications import MuscleCommandline\n",
    "\n",
    "consensus_seqs = open('/home/breena/Documents/Project/consensus.fasta', 'w+')\n",
    "alignments = '/home/breena/Documents/Project/align/'\n",
    "data = [f for f in listdir(alignments) if isfile(join(alignments, f))]\n",
    "for file in data:\n",
    "    print(file)\n",
    "    #consensus_seqs = open('/home/breena/Documents/Project/consensus.fasta', 'w+')\n",
    "    with open(alignments + file, 'r') as aligned_seqs:\n",
    "        for line in aligned_seqs:\n",
    "            align = AlignIO.read(alignments + file, \"clustal\")\n",
    "            #print(align)\n",
    "            summary_align = AlignInfo.SummaryInfo(align)    \n",
    "            consensus = summary_align.dumb_consensus(threshold=0.57)\n",
    "            print(consensus)\n",
    "            consensus_seqs.write(str('>' + file.replace('.aln', '') + '\\n' + consensus + '\\n'))\n",
    "            break"
   ]
  }
 ],
 "metadata": {
  "kernelspec": {
   "display_name": "Python 3",
   "language": "python",
   "name": "python3"
  },
  "language_info": {
   "codemirror_mode": {
    "name": "ipython",
    "version": 3
   },
   "file_extension": ".py",
   "mimetype": "text/x-python",
   "name": "python",
   "nbconvert_exporter": "python",
   "pygments_lexer": "ipython3",
   "version": "3.8.5"
  }
 },
 "nbformat": 4,
 "nbformat_minor": 5
}
